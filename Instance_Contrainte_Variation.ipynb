{
 "cells": [
  {
   "cell_type": "markdown",
   "id": "8b009fac",
   "metadata": {},
   "source": [
    "# Variation temps"
   ]
  },
  {
   "cell_type": "code",
   "execution_count": 3,
   "id": "acde3c03",
   "metadata": {},
   "outputs": [
    {
     "name": "stdout",
     "output_type": "stream",
     "text": [
      "Liste des points : [(250.0, 250.0), (341, 174), (202, 378), (154, 440), (37, 311), (284, 262), (451, 326), (454, 419), (364, 36), (87, 285), (15, 130)]\n",
      "Matrice d'adjacence \n",
      " [[0. 1. 0. 0. 0. 0. 1. 0. 0. 0. 1.]\n",
      " [1. 0. 1. 0. 0. 0. 0. 0. 0. 0. 1.]\n",
      " [0. 1. 0. 1. 0. 0. 0. 0. 0. 0. 0.]\n",
      " [0. 0. 1. 0. 1. 1. 0. 0. 0. 0. 0.]\n",
      " [0. 0. 0. 1. 0. 1. 0. 0. 1. 0. 0.]\n",
      " [0. 0. 0. 1. 1. 0. 1. 0. 0. 0. 0.]\n",
      " [1. 0. 0. 0. 0. 1. 0. 1. 0. 0. 0.]\n",
      " [0. 0. 0. 0. 0. 0. 1. 0. 1. 0. 0.]\n",
      " [0. 0. 0. 0. 1. 0. 0. 1. 0. 1. 0.]\n",
      " [0. 0. 0. 0. 0. 0. 0. 0. 1. 0. 1.]\n",
      " [1. 1. 0. 0. 0. 0. 0. 0. 0. 1. 0.]]\n",
      "Matrice d'adjacence pondérée \n",
      " [[  0. 119.   0.   0.   0.   0. 215.   0.   0.   0. 264.]\n",
      " [119.   0. 247.   0.   0.   0.   0.   0.   0.   0. 329.]\n",
      " [  0. 247.   0.  78.   0.   0.   0.   0.   0.   0.   0.]\n",
      " [  0.   0.  78.   0. 174. 220.   0.   0.   0.   0.   0.]\n",
      " [  0.   0.   0. 174.   0. 252.   0.   0. 427.   0.   0.]\n",
      " [  0.   0.   0. 220. 252.   0. 179.   0.   0.   0.   0.]\n",
      " [215.   0.   0.   0.   0. 179.   0.  93.   0.   0.   0.]\n",
      " [  0.   0.   0.   0.   0.   0.  93.   0. 393.   0.   0.]\n",
      " [  0.   0.   0.   0. 427.   0.   0. 393.   0. 372.   0.]\n",
      " [  0.   0.   0.   0.   0.   0.   0.   0. 372.   0. 171.]\n",
      " [264. 329.   0.   0.   0.   0.   0.   0.   0. 171.   0.]]\n"
     ]
    },
    {
     "data": {
      "image/png": "[encoded data removed]",
      "text/plain": [
       "<Figure size 432x288 with 1 Axes>"
      ]
     },
     "metadata": {
      "needs_background": "light"
     },
     "output_type": "display_data"
    }
   ],
   "source": [
    "%matplotlib inline\n",
    "import random\n",
    "import numpy as np\n",
    "import matplotlib.pyplot as plt\n",
    "\n",
    "def pointGeneration(nb):\n",
    "    n = nb\n",
    "    scale = 50*n\n",
    "    maxJoint = 1\n",
    "\n",
    "    depot = (scale/2,scale/2)\n",
    "    pointList = [depot]\n",
    "    \n",
    "    for i in range(n):\n",
    "        pointList += (i,)\n",
    "        pointList[i+1] = (random.randrange(0,scale),random.randrange(0,scale))\n",
    "        \n",
    "    return pointList\n",
    "#------------------------------------------------------------------------------------\n",
    "def plotPoints(pointList):\n",
    "    plt.plot(pointList[0][0],pointList[0][1],\"ro\", markersize=15)\n",
    "    plt.annotate(\"dépot\", (pointList[0][0]+3, pointList[0][1]+3), fontsize=10)\n",
    "    for i in range(len(pointList)):\n",
    "        if (i!= 0):\n",
    "            plt.plot(pointList[i][0], pointList[i][1],\"bo\")\n",
    "            plt.annotate(i, (pointList[i][0]+3, pointList[i][1]+3), fontsize=12)\n",
    "#------------------------------------------------------------------------------------\n",
    "def randomPackages(nb, nbPointsMax):\n",
    "    package = random.sample(range(1, nbPointsMax), nb)\n",
    "    for i in range(len(package)):\n",
    "        plt.plot(pointList[package[i]][0], pointList[package[i]][1],\"go\", markersize=10)\n",
    "    return package\n",
    "\n",
    "        \n",
    "#------------------------------------------------------------------------------------\n",
    "def makematrix(liste, linksLimit):\n",
    "    matrix = np.zeros((len(liste),len(liste)))\n",
    "    \n",
    "    for i in range(len(matrix)):\n",
    "        matrix[i][(i+1)%(len(matrix))] = 1\n",
    "        matrix[(i+1)%(len(matrix))][i] = 1\n",
    "    \n",
    "    for i in range(len(matrix)):\n",
    "        \n",
    "        if i < len(matrix):\n",
    "        \n",
    "            nbchoisi = 0\n",
    "            while(sum(matrix[i])<linksLimit and matrix[:, i].sum() < linksLimit):\n",
    "                nbchoisi = np.random.randint(i,len(matrix))\n",
    "                \n",
    "                if (matrix[:, nbchoisi].sum() < linksLimit and sum(matrix[nbchoisi])<linksLimit):\n",
    "                    matrix[i][nbchoisi] = 1\n",
    "                    matrix[nbchoisi][i] = 1\n",
    "\n",
    "            \n",
    "                    \n",
    "    for i in range(len(matrix)):\n",
    "        matrix[i][i] = 0\n",
    "    return matrix\n",
    "\n",
    "            \n",
    "def TraceLinks(matrix):\n",
    "    # Pour chaque points, on trace une ligne avec chaque voisins\n",
    "    for i in range(len(matrix)):\n",
    "        for j in range(len(matrix)):\n",
    "            if(i>j):\n",
    "                if matrix[i][j] > 0:\n",
    "                    x = (pointList[i][0], pointList[j][0])\n",
    "                    y = (pointList[i][1], pointList[j][1])\n",
    "                    plt.plot(x, y,\"b\", linestyle=\"solid\")\n",
    "\n",
    "                    \n",
    "#------------------------------------------------------------------------------------\n",
    "def ponderation(pointList, matrix):\n",
    "    for i in range(len(matrix)):\n",
    "        for j in range(len(matrix)):\n",
    "            if matrix[i][j] == 1:\n",
    "                poids = np.sqrt((pointList[i][0]-pointList[j][0])**2+(pointList[i][1]-pointList[j][1])**2)\n",
    "                matrix[i][j] = round(poids)\n",
    "                \n",
    "                \n",
    "#------------------------------------------------------------------------------------------------------------------------------------\n",
    "nbPoints = 10\n",
    "nbvoisins = 3\n",
    "nbPackages = 3\n",
    "\n",
    "pointList = pointGeneration(nbPoints)\n",
    "print(\"Liste des points :\", pointList)\n",
    "plotPoints(pointList)\n",
    "package = randomPackages(nbPackages, nbPoints)\n",
    "matrix = makematrix(pointList, nbvoisins)\n",
    "print(\"Matrice d'adjacence \\n\", matrix)\n",
    "ponderation (pointList,matrix)\n",
    "print(\"Matrice d'adjacence pondérée \\n\", matrix)\n",
    "TraceLinks(matrix)\n"
   ]
  },
  {
   "cell_type": "markdown",
   "id": "3c10d59a",
   "metadata": {},
   "source": [
    "## solution aleatoire"
   ]
  },
  {
   "cell_type": "code",
   "execution_count": 4,
   "id": "9eafed91",
   "metadata": {},
   "outputs": [
    {
     "name": "stdout",
     "output_type": "stream",
     "text": [
      "[0, 1, 2, 3, 2, 1, 10, 9, 10, 0, 6, 7, 8, 4]\n"
     ]
    }
   ],
   "source": [
    "def generateSolution(matrix,package):\n",
    "\n",
    "    packageLeft = package.copy()\n",
    "    solution = [0]\n",
    "\n",
    "    #print(\"Package : \", packageLeft)\n",
    "\n",
    "    while(packageLeft):\n",
    "        randomNext = np.random.randint(0,len(matrix))\n",
    "        while( matrix[solution[-1]][randomNext] == 0 ):\n",
    "            randomNext = np.random.randint(0,len(matrix))\n",
    "        solution.append(randomNext)\n",
    "        if(randomNext in packageLeft):\n",
    "            packageLeft.remove(randomNext)\n",
    "    #print(\"Solution : \",solution)\n",
    "\n",
    "    return solution\n",
    "\n",
    "\n",
    "def solutionLength(solution):\n",
    "\n",
    "    totalLength = 0\n",
    "    for i in range(0,len(solution)-1):\n",
    "        totalLength += matrix[solution[i]][solution[i+1]]\n",
    "\n",
    "    return totalLength\n",
    "\n",
    "\n",
    "UniqueRandomSolution = generateSolution(matrix, package)\n",
    "print(UniqueRandomSolution)"
   ]
  },
  {
   "cell_type": "markdown",
   "id": "677699ec",
   "metadata": {},
   "source": [
    "# Instance"
   ]
  },
  {
   "cell_type": "code",
   "execution_count": 5,
   "id": "1e05db27",
   "metadata": {},
   "outputs": [
    {
     "name": "stdout",
     "output_type": "stream",
     "text": [
      "iteration\n",
      "8\n",
      "iteration\n",
      "10\n",
      "iteration\n",
      "11\n",
      "iteration\n",
      "8\n",
      "iteration\n",
      "11\n",
      "iteration\n",
      "12\n",
      "iteration\n",
      "12\n",
      "iteration\n",
      "13\n",
      "iteration\n",
      "14\n",
      "iteration\n",
      "15\n",
      "iteration\n",
      "8\n",
      "iteration\n",
      "10\n",
      "iteration\n",
      "10\n",
      "Nombre de jours: 2\n",
      "Nombre d'heures en plus des jours: 10\n"
     ]
    }
   ],
   "source": [
    "def variationTraficTemps(solution, matrix):\n",
    "    speed = 500\n",
    "    startTime = 8\n",
    "    currentTime = startTime\n",
    "    totalDays = 0\n",
    "    \n",
    "    dict_speed_reduction_by_time = {8:0.5, 9:0.5, 10:0.6, 11:0.8, 12:0.6, 13:0.6, 14:0.8, 15:0.9, 16:0.7, 17:0.4, 18:0.5}\n",
    "    #------------------------------------------------------------------------------------------------------------------------------------------------\n",
    "    for p in range(0,len(solution)-1):\n",
    "        print(\"iteration\")\n",
    "        print(currentTime)\n",
    "        time2points = int((speed* dict_speed_reduction_by_time[currentTime]) / matrix[solution[p]][solution[p+1]])\n",
    "        currentTime += time2points\n",
    "        if ((18 - currentTime) < time2points):\n",
    "            totalDays +=1\n",
    "            currentTime = 8\n",
    "        \n",
    "    return([totalDays, currentTime])\n",
    "\n",
    "result = variationTraficTemps(UniqueRandomSolution,matrix)\n",
    "print(\"Nombre de jours: \"+ str(result[0]))\n",
    "print(\"Nombre d'heures en plus des jours: \"+ str(result[1]))"
   ]
  }
 ],
 "metadata": {
  "kernelspec": {
   "display_name": "Python 3 (ipykernel)",
   "language": "python",
   "name": "python3"
  },
  "language_info": {
   "codemirror_mode": {
    "name": "ipython",
    "version": 3
   },
   "file_extension": ".py",
   "mimetype": "text/x-python",
   "name": "python",
   "nbconvert_exporter": "python",
   "pygments_lexer": "ipython3",
   "version": "3.8.10"
  }
 },
 "nbformat": 4,
 "nbformat_minor": 5
}
