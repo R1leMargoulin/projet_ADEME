{
 "cells": [
  {
   "cell_type": "markdown",
   "id": "418912f3",
   "metadata": {},
   "source": [
    "# donnees de base du programme\n",
    "\n",
    "## Chargement de donnees aleatoires"
   ]
  },
  {
   "cell_type": "code",
   "execution_count": 28,
   "id": "dd564cba",
   "metadata": {},
   "outputs": [
    {
     "name": "stdout",
     "output_type": "stream",
     "text": [
      "[0, 17, 15, 10, 6, 4, 13]\n",
      "[1, 0, 17, 9, 11, 3, 15]\n",
      "[4, 15, 0, 0, 2, 14, 15]\n",
      "[12, 3, 19, 0, 16, 16, 0]\n",
      "[5, 3, 11, 2, 0, 6, 15]\n",
      "[19, 12, 19, 16, 7, 0, 1]\n",
      "[6, 1, 16, 0, 15, 5, 0]\n"
     ]
    },
    {
     "data": {
      "image/png": "[encoded data removed]",
      "text/plain": [
       "<Figure size 432x288 with 1 Axes>"
      ]
     },
     "metadata": {
      "needs_background": "light"
     },
     "output_type": "display_data"
    }
   ],
   "source": [
    "from random import randrange\n",
    "import matplotlib.pyplot as plt\n",
    "import numpy as np\n",
    "\n",
    "def generation(nb):\n",
    "    matrix = []\n",
    "    for i in range(nb):\n",
    "        matrix.append([])\n",
    "        for j in range(nb):\n",
    "            if (i == j):\n",
    "                matrix[i].append(0)\n",
    "            else:\n",
    "                matrix[i].append(randrange(20))\n",
    "    for  i in range(len(matrix)):\n",
    "            print(matrix[i])\n",
    "    return(matrix)\n",
    "\n",
    "def displayGraph(matrix):\n",
    "    pointToDisplay = []\n",
    "    for i in range(len(matrix)):\n",
    "        x = randrange(20)\n",
    "        y = randrange(20)\n",
    "        plt.plot( x, y, 'r.')\n",
    "displayGraph(generation(7))"
   ]
  },
  {
   "cell_type": "markdown",
   "id": "6e499f81",
   "metadata": {},
   "source": [
    "## Solution aleatoire Vol d'oiseau"
   ]
  },
  {
   "cell_type": "code",
   "execution_count": 73,
   "id": "613c1590",
   "metadata": {},
   "outputs": [
    {
     "name": "stdout",
     "output_type": "stream",
     "text": [
      "Liste des points : [(50, 50), (77, 80), (36, 43), (83, 42), (39, 51), (15, 21), (95, 63), (98, 74), (19, 0), (43, 14), (67, 99), (87, 41), (94, 6), (78, 61), (89, 79), (58, 84), (12, 11), (75, 98), (56, 25), (82, 71), (26, 65)]\n",
      "[8, 9, 1, 16, 4, 10]\n"
     ]
    },
    {
     "data": {
      "image/png": "[encoded data removed]",
      "text/plain": [
       "<Figure size 432x288 with 1 Axes>"
      ]
     },
     "metadata": {
      "needs_background": "light"
     },
     "output_type": "display_data"
    }
   ],
   "source": [
    "import random\n",
    "import matplotlib.pyplot as plt\n",
    "\n",
    "def generation2(nb):\n",
    "    n = nb\n",
    "    pointList = []\n",
    "    depot = (50,50)\n",
    "    pointList.append(depot)\n",
    "    plt.plot(depot[0],depot[1],\"ro\")\n",
    "    plt.annotate(\"dépot\", (depot[0]+1, depot[1]+1), fontsize=10)\n",
    "\n",
    "    for i in range(n):\n",
    "        pointList += (i,)\n",
    "        pointList[i+1] = (random.randrange(0,100),random.randrange(0,100))\n",
    "    return pointList\n",
    "    \n",
    "\n",
    "def display2(graph):\n",
    "    for i in range(len(graph)):\n",
    "        plt.plot(graph[i][0], graph[i][1],\"bo\")\n",
    "        plt.annotate(i, (graph[i][0]+1, graph[i][1]+1), fontsize=12)\n",
    "\n",
    "def generate_random_delivery(graph,n):\n",
    "    package = []\n",
    "    for i in range(n):\n",
    "        pack = random.randrange(1,len(graph))\n",
    "        if(not(pack in package)):\n",
    "            package.append(pack)\n",
    "    print(package)\n",
    "    for i in range(len(package)):\n",
    "        plt.plot(graph[package[i]][0], graph[package[i]][1],\"go\")\n",
    "\n",
    "graph = generation2(20)\n",
    "print(\"Liste des points :\", graph)\n",
    "#print (\"Colis aux points : \", package)\n",
    "display2(graph)\n",
    "generate_random_delivery(graph, 8)"
   ]
  }
 ],
 "metadata": {
  "kernelspec": {
   "display_name": "Python 3 (ipykernel)",
   "language": "python",
   "name": "python3"
  },
  "language_info": {
   "codemirror_mode": {
    "name": "ipython",
    "version": 3
   },
   "file_extension": ".py",
   "mimetype": "text/x-python",
   "name": "python",
   "nbconvert_exporter": "python",
   "pygments_lexer": "ipython3",
   "version": "3.8.10"
  }
 },
 "nbformat": 4,
 "nbformat_minor": 5
}
