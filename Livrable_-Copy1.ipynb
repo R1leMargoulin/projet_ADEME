{
 "cells": [
  {
   "cell_type": "markdown",
   "id": "625dac78",
   "metadata": {},
   "source": [
    "# <center>Livrable Modélisation</center>\n",
    "<img src=\"image_projet.JPG\" width=800 height=300 />\n"
   ]
  },
  {
   "cell_type": "markdown",
   "id": "8d0c06a6",
   "metadata": {},
   "source": [
    "## Introduction\n",
    "<br>\n",
    "<div style=\"text-align: justify\"> Après un récent appel lancé par l’ADEME (Agence de l’Environnement et de la Maîtrise de l’Energie) afin d’encourager la réalisation de démonstrateurs et d’expérimentations de nouvelles solutions de mobilité pour les personnes et les marchandises adaptées à différents types de territoires. De plus, l’écologie est un défi primordial,en effet l’impact des véhicules sur l’environnement est important.  </div>\n",
    "\n",
    "Notre équipe a été mise en place par CesiCDP afin de répondre à l’appel de l’ADEME.  \n",
    "\n",
    "Pour le CesiCDP, l’enjeux est de décrocher de nouveaux marchés avec des financements très avantageux pour continuer à développer son activité. \n",
    "\n",
    "<div style=\"text-align: justify\">Le CesiCDP a décidé de focaliser son étude sur la gestion des tournées de livraison. Le problème algorithmique consiste à calculer sur un réseau routier un itinéraire permettant de relier un sous-ensemble de villes, puis de revenir à son point de départ, afin de minimiser la durée totale du parcours. Cette optimisation devra prendre en compte le trafic attendu sur chaque axe pour les différents créneaux horaires. </div>\n",
    "\n",
    "Le but est de proposer une méthode issue de la recherche opérationnelle pour générer une tournée de livraison correspondant à ce problème. \n",
    "\n",
    "Le périmètre reste à définir. Nous devons d’abord décrire une version de base du problème. Puis, pour rendre la situation plus réaliste et d'obtenir toute l'attention de l'ADEME, nous devrons y ajouter des contraintes supplémentaires. \n",
    "\n"
   ]
  },
  {
   "attachments": {},
   "cell_type": "markdown",
   "id": "abb4b50a",
   "metadata": {},
   "source": [
    "## Modélisation du problème\n",
    "\n",
    "Afin de modéliser au mieux la situation de notre problème, nous avons décider d'utiliser d'utiliser les graphes. Nous représenterons notre carte routière à l'aide de points indiquant les villes et de lignes entre ces points représentant les routes entre ces villes. Afin de rendre les choses plus réaliste, chaque point ne sera relié qu'à un certain nombre d'autres points (graphe non complet). De cette manière, notre camion ne pourra voyager que de villes voisines en villes voisines en empreintant les chemins éxistants.\n",
    "\n",
    "Les points de ce graphe seront généré à des coordonées aléatoires parmis une plage de valeur comprenant un point de départ (depot représenté en rouge) toujours situé au milieu du graphe, et des points de livraisons (représentés en vert). Une matrice d'adjacence elle aussi généré aléatoirement tout en respectant un nombre maximum de voisins ainsi que la connexité du graphe, permettra de déterminer les villes reliées entre elles.\n",
    "\n",
    "**Exemple de graphe généré (10 points dont 4 colis et 3 voisins maximum par points) :**\n",
    "![Exemple de graphe](img/exemple_graphe.PNG)"
   ]
  },
  {
   "cell_type": "markdown",
   "id": "a1217f2d",
   "metadata": {},
   "source": [
    "## Différents algorithmes\n",
    "\n",
    "En analysant le contexte de ce projet, on se rend vite compte qu'il est similaire au problème du voyageur de commerce. Nous devons passer par nos points le plus rapidement possible tout en pouvant passer pluseirus fois par le même point, en prenant donc sur un graphe les arrêtes dont le poids est le plus faible."
   ]
  },
  {
   "cell_type": "markdown",
   "id": "f027e3f8",
   "metadata": {},
   "source": [
    "La complexité de la résolution de ce problème est de type NP-Complet : \n",
    "\n",
    "Définition 12.8 : \n",
    "\n",
    "https://www.enseignement.polytechnique.fr/informatique/INF423/uploads/Main/chap12-good.pdf "
   ]
  },
  {
   "cell_type": "markdown",
   "id": "c19de07f",
   "metadata": {},
   "source": [
    "En cherchant comment résoudre le problème, nous avons affiné nos recherches de l’algorithme idéal en analysant trois solutions possibles : \n",
    "\n",
    "- Algorithmes d’arbre couvrant de poids minimal \n",
    "\n",
    "- Algorithme de Christofides (Algorithme d’approximation)  \n",
    "\n",
    "- Algorithmes VRP (Vehicule Routing Problem) "
   ]
  },
  {
   "cell_type": "markdown",
   "id": "94c1c86e",
   "metadata": {},
   "source": [
    "<u>Arbre couvrant de poids minimal</u>:  \n",
    "\n",
    "<div style=\"text-align: justify\">Le modèle en arbre couvrant de poids minimal est le modèle le plus basique lorsqu’il s’agit de trouver le chemin le plus court. Il a pour but de connecter tous les points d’un graphe tout en ayant la somme des arêtes la plus faible possible. Il existe de nombreux algorithmes différents pour trouver le meilleur chemin, tel que celui de Prim, Kruskal ou Borůvka. Tous ces algorithmes sont des algorithmes gloutons, c’est à dire qu’ils recherchent étapes part étapes des optimum locaux afin de trouver un optimum global. </div>\n",
    "<img src=\"arbre-couvrant.png\" width=300 height=300 />\n",
    "\n"
   ]
  },
  {
   "cell_type": "markdown",
   "id": "4aae181b",
   "metadata": {},
   "source": [
    "<u>Algorithme de Christofides</u>: \n",
    "\n",
    "<div style=\"text-align: justify\"> Cet algorithme est également un algorithme d’arbre couvrant de poids minimal mais est spécifique au problème du voyageur de commerce, donc très pertinent dans notre situation, à noter que cet algorithme est heuristique, c’est à dire qu’il permet de résoudre des problèmes complexe d’optimisation rapidement. Nous le détaillerons plus en détail dans la suite de ce document. </div>\n",
    "\n",
    "<img src=\"christofides.png\" width=200 height=200 />"
   ]
  },
  {
   "cell_type": "markdown",
   "id": "73ed3fcd",
   "metadata": {},
   "source": [
    "<u>Algorithme VRP</u> : \n",
    "\n",
    "<div style=\"text-align: justify\">Les algorithmes de VRP sont des algorithmes dédiés aux problèmes de tournée de véhicules. C’est un problème de recherche opérationnelle et d’optimisation combinatoire, c’est à dire que l’on cherche le meilleur résultat le plus optimisé. Ce problème est une extension du problème du voyageur de commerce qui consiste à trouver la tournée de livraison la plus rapide pour une flotte de véhicule. </div>\n",
    "\n",
    "<img src=\"VRP.JPG\" width=300 height=300 />"
   ]
  },
  {
   "cell_type": "markdown",
   "id": "e1316cc7",
   "metadata": {},
   "source": [
    "## Pseudo-code"
   ]
  },
  {
   "cell_type": "markdown",
   "id": "f1f5f0d1",
   "metadata": {},
   "source": [
    "Pour définir notre solution, nous devons tout d'abord déterminer les différentes étapes."
   ]
  },
  {
   "cell_type": "markdown",
   "id": "f4abfc7e",
   "metadata": {},
   "source": [
    "<div style=\"text-align: justify\">1. Choix de la ville/zone <strong> Complexité : O(1)</strong>\n",
    "\n",
    "2. Choix des placements (random) des points de livraisons sur les intersections (nombre de points de livraisons : pourcentage du nombre total de points comme 5 ou 10%)  <strong>Complexité : O(n) </strong>\n",
    "\n",
    "//Algorithme de Christofides modifié \n",
    "Démonstration mathématique : https://apps.dtic.mil/dtic/tr/fulltext/u2/a025602.pdf\n",
    "\n",
    "3. On définit un arbre de poids couvrant minimal mais seulement pour des points fixés sur une livraison, on ne va pas chercher a couvrir tous les points de la ville. <strong>Complexité : O(n) </strong>\n",
    "\n",
    "4. Sur une copie du graphe de la ville, on va supprimer les sommets et les arrêtes qui y sont liés non compris dans l’arbre (ou ne garder que celles qui y sont) <strong>Complexité : O(n) </strong>\n",
    "\n",
    "5. Sur cet arbre, on fait un graph « à part » ou on ne garde que les sommets de degrés impairs <strong>Complexité : O(n) </strong>\n",
    "\n",
    "6. On ne garde que les arrêtes de poids minimal pour relier pair à pair ces sommets de degré impairs qu’on a gardé et on les ajoute à notre arbre couvrant de poids minimal, on note les autres comme à \"supprimer\". <strong>Complexité : O(n) </strong>\n",
    "\n",
    "7. On calcule le tour du tour eulérien de l’arbre maintenant que notre arbre est un cycle eulérien (étape précédente) <strong>Complexité : O(n) </strong>\n",
    "\n",
    "8. Sur le tour qu’on vient d’effectuer, on note comme à \"supprimer\" les arrêtes qui nous ont fait passer deux fois sur le même point  <strong>Complexité : O(n) : Sur le tour qu’on vient d’effectuer, on note comme à supprimer » les arrêtes qui nous ont fait passer deux fois sur le même point</strong>\n",
    "\n",
    "9. Sur notre copie réalisée dans l’étape 4 avec les points nécessaires, on supprime toutes les arêtes qu’on a noté comme « à supprimer » dans les étapes 6 et 8. <strong>Complexité : O(n) </strong>\n",
    "</div>"
   ]
  },
  {
   "cell_type": "markdown",
   "id": "9b29365c",
   "metadata": {},
   "source": [
    "## Représentation exemple des étapes de l'algorithme précédemment exposé :"
   ]
  },
  {
   "cell_type": "markdown",
   "id": "36f0bb72",
   "metadata": {},
   "source": [
    "1. Génération du graphe avec le point de départ en vert\n",
    "\n",
    "<img src=\"1.JPG\" width=200 height=200 style=\"float: left; margin-right: 10px;\" />"
   ]
  },
  {
   "cell_type": "markdown",
   "id": "dcee5c78",
   "metadata": {},
   "source": [
    "2. Choix aléatoire des points de livraisons\n",
    "\n",
    "<img src=\"2.JPG\" width=200 height=200 style=\"float: left; margin-right: 10px;\"/>"
   ]
  },
  {
   "cell_type": "markdown",
   "id": "595ee171",
   "metadata": {},
   "source": [
    "3. Arbre de poids couvrant minimal focus sur nos points\n",
    "\n",
    "<img src=\"3.JPG\" width=300 height=300 style=\"float: left; margin-right: 10px;\" />"
   ]
  },
  {
   "cell_type": "markdown",
   "id": "8784cc11",
   "metadata": {},
   "source": [
    "4. Suppression des points non présent dans l'arbre couvrant de poids minimal pour réduire le graphe au maximum\n",
    "\n",
    "<img src=\"4.JPG\" width=200 height=200 style=\"float: left; margin-right: 10px;\" />"
   ]
  },
  {
   "cell_type": "markdown",
   "id": "4048eec1",
   "metadata": {},
   "source": [
    "5. Dans l'arbre de poids couvrant minimal, on isole les sommets de degrés impairs et on les lie pair à pair\n",
    "\n",
    "<img src=\"5.JPG\" width=300 height=300 style=\"float: left; margin-right: 10px;\"/>"
   ]
  },
  {
   "cell_type": "markdown",
   "id": "475c955e",
   "metadata": {},
   "source": [
    "## Choix de la méta-heuristique"
   ]
  },
  {
   "cell_type": "markdown",
   "id": "b69938cc",
   "metadata": {},
   "source": [
    "Notre problème étant un problème du voyageur de commerce avec des contraintes différentes. Nous avons la possibilité de choisir entre plusieurs algorithmes afin de répondre à notre besoin. D'après une étude de 2013 nommée \"Choice of best possible metaheuristic algorithm for the travelling salesman problem with limited computational time: quality, uncertainty and speed\" trois méta-heuristiques ressortent du lot quand au problème du voyageur de commerce :\n",
    "\n",
    "\n",
    "-\tLe recuit simulé \n",
    "-   La liste tabou\n",
    "-\tL’algorithme génétique \n",
    "\n",
    "Nous avons alors décider de réaliser deux de ces algorithmes. Notre choix s'est donc porté sur le recuit simulé (annoncé comme étant l'algorithme le plus optimisé, ainsi que l'algorithme génétique, ayant de moins de moins bon résultats en solutions et en temps que la liste tabou mais ayant des résultats bien plus stables.\n",
    "\n",
    "\n",
    "https://www.researchgate.net/profile/Bogumil-Kaminski-2/publication/312889331_Choice_of_best_possible_metaheuristic_algorithm_for_the_travelling_salesman_problem_with_limited_computational_time_Quality_uncertainty_and_speed/links/5fc22195a6fdcc6cc677a46a/Choice-of-best-possible-metaheuristic-algorithm-for-the-travelling-salesman-problem-with-limited-computational-time-Quality-uncertainty-and-speed.pdf\n"
   ]
  },
  {
   "cell_type": "markdown",
   "id": "12fed10a",
   "metadata": {},
   "source": [
    "### L'algorithme recuit simulé <img src=\"recuit.png\" width=200 height=200 />\n",
    "\n"
   ]
  },
  {
   "cell_type": "markdown",
   "id": "5c9d8a97",
   "metadata": {},
   "source": [
    "<div style=\"text-align: justify\">Pour commencer nous allons donc parler de l’algorithme du recuit simulé. Le recuit simulé (Simulated Annealing) est une métaheuristique permettant de résoudre au mieux les problèmes que l’on appelle « optimisation difficile ». Elle permet d’éviter de se piéger dans les minima locaux de la fonction objective).\n",
    "Cette méthode s’inspire de la technique du recuit dans le métallurgie.</div>\n",
    "Nous pouvons prendre un exemple avec la métallurgie :\n",
    "\n",
    "<img src=\"metal.JPG\" width=800 height=300/>"
   ]
  },
  {
   "cell_type": "markdown",
   "id": "84ea9643",
   "metadata": {},
   "source": [
    "<div style=\"text-align: justify\">Quand l’équilibre atteint une température donnée (c’est-à-dire l’optimum local), la température peut être à nouveau réduite légèrement pour effectuer une nouvelle série d’itérations.\n",
    "Si la température atteint une valeur presque nulle ou si aucun mouvement pouvant améliorer la fonction objectif n’a été trouvée au cours du palier, l’algorithme prend fin.</div>\n"
   ]
  },
  {
   "cell_type": "markdown",
   "id": "d1a15a49",
   "metadata": {},
   "source": [
    "<div style=\"text-align: justify\">A l’inverse d’un algorithme de recherche locale, l’algorithme de recuit simulé permet un abaissement de la fonction objectif avec une certaine probabilité. Suite à ce changement sur la fonction objectif, il est possible de la faire remonter pour ensuite trouver un point encore plus bas.</div>\n",
    "<img src=\"recuit2.png\" width=300 height=300 />"
   ]
  },
  {
   "cell_type": "markdown",
   "id": "fb8591f5",
   "metadata": {},
   "source": [
    "### L'algorithme génétique\n",
    "<img src=\"géné.jpg\" width=200 height=200/>"
   ]
  },
  {
   "cell_type": "markdown",
   "id": "0bbab7e7",
   "metadata": {},
   "source": [
    "<div style=\"text-align: justify\">L'algorithme génétique est un algorithme appartenant à la famille des algorithmes évolutionnistes. Le but est de trouver une solution optimum à un problème dans un temps raisonnable. \n",
    "L’énorme avantage est le fait qu’il ne faut que deux choses pour que l’algorithme fonctionne : une suite de tests permettant de déterminer la validité des résultats obtenus et une structure de données pour stocker les résultats.\n",
    "Les algorithmes génétiques utilisent la notion de sélection naturelle, pour ne garder que les meilleurs résultats à chaque étapes de la recherche. \n",
    "Le domaine d’application des GA (Genetic Algorithm) est large. En effet, on peut le trouver dans une recherche simple d’une suite de nombre fournissant un résultat connu ou l’utiliser en duo avec un réseau de neurones artificiels pour créer des robots capables de reconnaître des images. </div>\n",
    "\n",
    "Les différents termes liés aux algorithmes génétiques :\n",
    "- Individu : un résultat, une instance de structure de données contenant un résultat qu’il soit optimum ou non. (chaine de caractère)\n",
    "- Population : une collection, un regroupement d’individus \n",
    "- Génération : étape dans l’évolution d’une population\n",
    "- Sélection : cette étape attribue un score à chaque individu en de son adaptation au problème donné. En fonction des scores obtenus par chaque individu de la population, certains seront conservés pour la génération suivante et d’autres seront supprimés. \n",
    "- Croisement : étape prenant 2 individus différents et de les faire se reproduire pour générer de nouveau individu. \n",
    "- Mutation : étape introduisant aléatoirement des modifications dans les constituants d’un individu "
   ]
  },
  {
   "cell_type": "markdown",
   "id": "ef85c0f6",
   "metadata": {},
   "source": [
    "L'algorithme du principe de l'algorithme génétique : \n",
    "    <img src=\"gene2.png\" width=200 height=300 />"
   ]
  },
  {
   "cell_type": "markdown",
   "id": "1d12b757",
   "metadata": {},
   "source": [
    "Dans une population P={x1,x2,...,xn} où la mesure d'adaptation d'un individu est évaluée par la fonction f, on peut calculer la probabilité d'être sélectionné : <img src=\"formule.JPG\" width=200 height=200 />"
   ]
  },
  {
   "cell_type": "markdown",
   "id": "aeab59ed",
   "metadata": {},
   "source": [
    "## Variation de l'algorithme selon nos besoins"
   ]
  },
  {
   "cell_type": "markdown",
   "id": "7c0d6571",
   "metadata": {},
   "source": [
    "Ayant décider de travailler sur un graphe non complet, le fonctionnement de l'algorithme génétique s'en voit fortement impacté. La phase de croisement qui permet la création d'un individu à partir des deux parents est ici impossible car cette contrainte ne nous permet pas de permuter nos point comme l'on voudrait dans le cas du croisement. Nos villes ont chacunes des voisins et notre solution est construite sur la chaine de voisins crées. Changer un point de la solution impliquerait que ce point ne soit pas forcément voisin avec son prédécesseur ni son successeur, rendant la solution impossible. Nous avons alors décidé de nous passer de la phase de croisement.\n",
    "\n",
    "De la même manière la phase de mutation s'en retrouve impactée. Plutôt que de muter un unique point de la solution, nous devons alors muter toute la suite de point à partir de cette mutation. Nous choisissons donc un point aléatoire de la solution et à partir de celui-ci, nous reconstruisons à la suite une solution tout en vérifiant le passage par les points de livraisons ainsi que le retour à l'entrepot de la solution mutée."
   ]
  },
  {
   "cell_type": "markdown",
   "id": "fbabb307",
   "metadata": {},
   "source": [
    "## Comparaison des deux algorithmes"
   ]
  },
  {
   "cell_type": "markdown",
   "id": "845f9ba0",
   "metadata": {},
   "source": [
    "## Nos algorithmes"
   ]
  },
  {
   "cell_type": "code",
   "execution_count": 3,
   "id": "404e6ccf",
   "metadata": {},
   "outputs": [],
   "source": [
    "%matplotlib inline\n",
    "import random\n",
    "import numpy as np\n",
    "import matplotlib.pyplot as plt\n",
    "\n",
    "def pointGeneration(nb):\n",
    "    n = nb\n",
    "    scale = 50*n\n",
    "    maxJoint = 1\n",
    "\n",
    "    depot = (scale/2,scale/2)\n",
    "    pointList = [depot]\n",
    "    \n",
    "    for i in range(n):\n",
    "        pointList += (i,)\n",
    "        pointList[i+1] = (random.randrange(0,scale),random.randrange(0,scale))\n",
    "        \n",
    "    return pointList"
   ]
  },
  {
   "cell_type": "code",
   "execution_count": 4,
   "id": "5f09f01e",
   "metadata": {},
   "outputs": [],
   "source": [
    "def plotPoints(pointList):\n",
    "    plt.plot(pointList[0][0],pointList[0][1],\"ro\", markersize=15)\n",
    "    plt.annotate(\"dépot\", (pointList[0][0]+3, pointList[0][1]+3), fontsize=10)\n",
    "    for i in range(len(pointList)):\n",
    "        if (i!= 0):\n",
    "            plt.plot(pointList[i][0], pointList[i][1],\"bo\")\n",
    "            plt.annotate(i, (pointList[i][0]+3, pointList[i][1]+3), fontsize=12)"
   ]
  },
  {
   "cell_type": "code",
   "execution_count": 5,
   "id": "93b3991c",
   "metadata": {},
   "outputs": [],
   "source": [
    "def randomPackages(nb, nbPointsMax):\n",
    "    package = random.sample(range(1, nbPointsMax), nb)\n",
    "    for i in range(len(package)):\n",
    "        plt.plot(pointList[package[i]][0], pointList[package[i]][1],\"go\", markersize=10)\n",
    "    return package"
   ]
  },
  {
   "cell_type": "code",
   "execution_count": 6,
   "id": "01f177f5",
   "metadata": {},
   "outputs": [],
   "source": [
    "def makematrix(liste, linksLimit):\n",
    "    matrix = np.zeros((len(liste),len(liste)))\n",
    "    \n",
    "    for i in range(len(matrix)):\n",
    "        matrix[i][(i+1)%(len(matrix))] = 1\n",
    "        matrix[(i+1)%(len(matrix))][i] = 1\n",
    "    \n",
    "    for i in range(len(matrix)):\n",
    "        \n",
    "        if i < len(matrix):\n",
    "        \n",
    "            nbchoisi = 0\n",
    "            while(sum(matrix[i])<linksLimit and matrix[:, i].sum() < linksLimit):\n",
    "                nbchoisi = np.random.randint(i,len(matrix))\n",
    "                \n",
    "                if (matrix[:, nbchoisi].sum() < linksLimit and sum(matrix[nbchoisi])<linksLimit):\n",
    "                    matrix[i][nbchoisi] = 1\n",
    "                    matrix[nbchoisi][i] = 1\n",
    "        #print(\"i : \",i)\n",
    "        #print(\"somme : \",sum(matrix[i]))\n",
    "            \n",
    "                    \n",
    "    for i in range(len(matrix)):\n",
    "        matrix[i][i] = 0\n",
    "    return matrix\n",
    "\n",
    "def TraceLinks(matrix):\n",
    "    # Pour chaque points, on trace une ligne avec chaque voisins\n",
    "    for i in range(len(matrix)):\n",
    "        for j in range(len(matrix)):\n",
    "            if(i>j):\n",
    "                if matrix[i][j] > 0:\n",
    "                    x = (pointList[i][0], pointList[j][0])\n",
    "                    y = (pointList[i][1], pointList[j][1])\n",
    "                    plt.plot(x, y,\"b\", linestyle=\"solid\")"
   ]
  },
  {
   "cell_type": "code",
   "execution_count": 7,
   "id": "5a087bb5",
   "metadata": {},
   "outputs": [],
   "source": [
    "def ponderation(pointList, matrix):\n",
    "    for i in range(len(matrix)):\n",
    "        for j in range(len(matrix)):\n",
    "            if matrix[i][j] == 1:\n",
    "                poids = np.sqrt((pointList[i][0]-pointList[j][0])**2+(pointList[i][1]-pointList[j][1])**2)\n",
    "                matrix[i][j] = round(poids)"
   ]
  },
  {
   "cell_type": "code",
   "execution_count": 8,
   "id": "db3c101f",
   "metadata": {},
   "outputs": [
    {
     "data": {
      "image/png": "[encoded data removed]",
      "text/plain": [
       "<Figure size 432x288 with 1 Axes>"
      ]
     },
     "metadata": {
      "needs_background": "light"
     },
     "output_type": "display_data"
    }
   ],
   "source": [
    "nbPoints = 30\n",
    "nbvoisins = 3\n",
    "\n",
    "pointList = pointGeneration(nbPoints)\n",
    "#print(\"Liste des points :\", pointList)\n",
    "plotPoints(pointList)\n",
    "randomPackages(3, nbPoints)\n",
    "matrix = makematrix(pointList, nbvoisins)\n",
    "#print(\"Matrice d'adjacence \\n\", matrix)\n",
    "ponderation (pointList,matrix)\n",
    "#print(\"Matrice d'adjacence pondérée \\n\", matrix)\n",
    "TraceLinks(matrix)"
   ]
  },
  {
   "cell_type": "markdown",
   "id": "92932f3c",
   "metadata": {},
   "source": [
    "## Etude statistique\n"
   ]
  },
  {
   "cell_type": "markdown",
   "id": "a1a1b7d8",
   "metadata": {},
   "source": [
    "Etude statisque pour un algorithme génétique :\n",
    "    <img src=\"stat_g.png\" width=800 height=800 />"
   ]
  },
  {
   "cell_type": "code",
   "execution_count": null,
   "id": "04996a97",
   "metadata": {},
   "outputs": [],
   "source": []
  }
 ],
 "metadata": {
  "kernelspec": {
   "display_name": "algo_env",
   "language": "python",
   "name": "algo_env"
  },
  "language_info": {
   "codemirror_mode": {
    "name": "ipython",
    "version": 3
   },
   "file_extension": ".py",
   "mimetype": "text/x-python",
   "name": "python",
   "nbconvert_exporter": "python",
   "pygments_lexer": "ipython3",
   "version": "3.10.4"
  }
 },
 "nbformat": 4,
 "nbformat_minor": 5
}
